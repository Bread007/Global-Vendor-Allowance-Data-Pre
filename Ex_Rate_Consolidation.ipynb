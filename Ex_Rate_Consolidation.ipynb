{
 "cells": [
  {
   "cell_type": "code",
   "execution_count": 1,
   "metadata": {
    "collapsed": true
   },
   "outputs": [],
   "source": [
    "import pandas as pd"
   ]
  },
  {
   "cell_type": "code",
   "execution_count": 2,
   "metadata": {
    "collapsed": true
   },
   "outputs": [],
   "source": [
    "import os\n",
    "os.chdir(r'C:\\Users\\t0d00dh\\01_Projects\\Allowance_Data\\Foriegn Exchange rates')\n",
    "files = os.listdir(r'C:\\Users\\t0d00dh\\01_Projects\\Allowance_Data\\Foriegn Exchange rates')\n",
    "df_exrate = [f for f in files if f.endswith('.xlsx')]"
   ]
  },
  {
   "cell_type": "code",
   "execution_count": 3,
   "metadata": {
    "collapsed": true
   },
   "outputs": [],
   "source": [
    "curr_list =['ARS','CAD','CLP','CNY','CRC','GBP' ,'GTQ' ,'HNL' ,'INR' ,'JPY','MXN','NIO','SVC','USD']\n",
    "country_list = ['AR','CA','CL','CN','CR','GB','GT','HN','IN','JP','MX','NI','SV']\n"
   ]
  },
  {
   "cell_type": "code",
   "execution_count": 4,
   "metadata": {
    "collapsed": false
   },
   "outputs": [],
   "source": [
    "df_ex_GVA = pd.DataFrame()\n",
    "for i in range(len(df_exrate)):\n",
    "    df_ex = pd.ExcelFile(df_exrate[i]).parse('Y - avg rate')\n",
    "    ix =df_ex.iloc[4:,0][df_ex.iloc[4:,0].apply(lambda x:x.rstrip()).apply(lambda x: x in curr_list )].index\n",
    "    df_ex_new = df_ex.iloc[ix,[0,1]]\n",
    "    df_ex_new['COUNTRY'] = country_list\n",
    "    df_ex_new['Rate_Time'] = df_ex.iloc[3,1]\n",
    "    df_ex_new.columns = ['Currency','Ex_Rate','COUNTRY','Time']\n",
    "    \n",
    "    df_ex_GVA = pd.concat([df_ex_GVA,df_ex_new],ignore_index = True)\n",
    "    "
   ]
  },
  {
   "cell_type": "code",
   "execution_count": 21,
   "metadata": {
    "collapsed": false
   },
   "outputs": [],
   "source": [
    "\n",
    "df_ex_GVA.to_excel('Exchange_Rate_GVA.xlsx', sheet_name='sheet1', index=False)"
   ]
  },
  {
   "cell_type": "code",
   "execution_count": 6,
   "metadata": {
    "collapsed": true
   },
   "outputs": [],
   "source": [
    "os.chdir(r'C:\\Users\\t0d00dh\\01_Projects\\Allowance_Data')"
   ]
  },
  {
   "cell_type": "code",
   "execution_count": 9,
   "metadata": {
    "collapsed": true
   },
   "outputs": [],
   "source": [
    "VA_Group = pd.ExcelFile('GVA allowance types grouping_9182018.xlsx').parse('sheet1')"
   ]
  },
  {
   "cell_type": "code",
   "execution_count": 17,
   "metadata": {
    "collapsed": false
   },
   "outputs": [],
   "source": [
    "VA_Group_GVA = VA_Group.iloc[3:,[1,8]]\n",
    "VA_Group_GVA.columns = list(VA_Group.iloc[2,[1,8]])"
   ]
  },
  {
   "cell_type": "code",
   "execution_count": 19,
   "metadata": {
    "collapsed": false
   },
   "outputs": [],
   "source": [
    "VA_Group_GVA.to_excel('VA_Group_GVA.xlsx', sheet_name='sheet1', index=False)"
   ]
  },
  {
   "cell_type": "code",
   "execution_count": 22,
   "metadata": {
    "collapsed": true
   },
   "outputs": [],
   "source": [
    "Status_Group_GVA = pd.ExcelFile('Status_Group_GVA.xlsx').parse('sheet1')"
   ]
  }
 ],
 "metadata": {
  "kernelspec": {
   "display_name": "Python [Anaconda2]",
   "language": "python",
   "name": "Python [Anaconda2]"
  },
  "language_info": {
   "codemirror_mode": {
    "name": "ipython",
    "version": 2
   },
   "file_extension": ".py",
   "mimetype": "text/x-python",
   "name": "python",
   "nbconvert_exporter": "python",
   "pygments_lexer": "ipython2",
   "version": "2.7.12"
  }
 },
 "nbformat": 4,
 "nbformat_minor": 2
}
